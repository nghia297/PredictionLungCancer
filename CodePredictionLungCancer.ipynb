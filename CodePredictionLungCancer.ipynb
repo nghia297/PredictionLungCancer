{
  "nbformat": 4,
  "nbformat_minor": 0,
  "metadata": {
    "colab": {
      "provenance": []
    },
    "kernelspec": {
      "name": "python3",
      "display_name": "Python 3"
    },
    "language_info": {
      "name": "python"
    }
  },
  "cells": [
    {
      "cell_type": "markdown",
      "source": [
        "1. Khai báo thư viện"
      ],
      "metadata": {
        "id": "v0CL2OFev95Q"
      }
    },
    {
      "cell_type": "code",
      "source": [
        "import numpy as np\n",
        "import pandas as pd\n",
        "import matplotlib.pyplot as plt\n",
        "from sklearn.model_selection import train_test_split"
      ],
      "metadata": {
        "id": "lEfF_BoMwAII"
      },
      "execution_count": null,
      "outputs": []
    },
    {
      "cell_type": "markdown",
      "source": [
        "2. Chi tiết về bộ dữ liệu"
      ],
      "metadata": {
        "id": "xizPJsLewEF2"
      }
    },
    {
      "cell_type": "code",
      "source": [
        "data = pd.read_csv('survey lung cancer.csv').values\n",
        "print(data)\n",
        "print(data.shape)"
      ],
      "metadata": {
        "colab": {
          "base_uri": "https://localhost:8080/"
        },
        "id": "ekbkunbuwlxA",
        "outputId": "03a8afcb-ecfb-40b0-dcb4-f6eae4122c82"
      },
      "execution_count": null,
      "outputs": [
        {
          "output_type": "stream",
          "name": "stdout",
          "text": [
            "[[ 0 74  2 ...  2  2  1]\n",
            " [ 1 59  1 ...  1  2  2]\n",
            " [ 0 63  2 ...  2  2  2]\n",
            " ...\n",
            " [ 1 38  2 ...  1  2  1]\n",
            " [ 0 26  2 ...  1  1  2]\n",
            " [ 0 61  2 ...  1  1  2]]\n",
            "(55393, 16)\n"
          ]
        }
      ]
    },
    {
      "cell_type": "markdown",
      "source": [
        "3. Hàm xử lý dữ liệu"
      ],
      "metadata": {
        "id": "a_nPYshCxxk_"
      }
    },
    {
      "cell_type": "code",
      "source": [
        "def xuly(data):\n",
        "  for i in range(data.shape[1]):\n",
        "    data[:,i] = data[:,i]/max(data[:,i])\n",
        "  return data"
      ],
      "metadata": {
        "id": "143zRt7XyLYe"
      },
      "execution_count": null,
      "outputs": []
    },
    {
      "cell_type": "markdown",
      "source": [
        "4. Hàm sigmoid"
      ],
      "metadata": {
        "id": "ukebkUDbyQzP"
      }
    },
    {
      "cell_type": "code",
      "source": [
        "def sigmoid(z):\n",
        "    return 1/(1+np.exp(-z))"
      ],
      "metadata": {
        "id": "5691S6mpyTDN"
      },
      "execution_count": null,
      "outputs": []
    },
    {
      "cell_type": "markdown",
      "source": [
        "5. Hàm predict"
      ],
      "metadata": {
        "id": "dHuWXwwGyU3g"
      }
    },
    {
      "cell_type": "code",
      "source": [
        "def predict(x,theta):\n",
        "    y_pre = np.dot(x,theta)\n",
        "    return sigmoid(y_pre)"
      ],
      "metadata": {
        "id": "YAB6ZT3zycR7"
      },
      "execution_count": null,
      "outputs": []
    },
    {
      "cell_type": "markdown",
      "source": [
        "6. Hàm mất mát"
      ],
      "metadata": {
        "id": "LNVjoKiWyd5W"
      }
    },
    {
      "cell_type": "code",
      "source": [
        "def cost_funciton(x,y,theta):\n",
        "    n = x.shape[0]\n",
        "    eps = 1e-7\n",
        "    predicta = predict(x,theta)\n",
        "    cost_class1 =- y * np.log(predicta+eps)\n",
        "    cost_class0 =-(1-y)*np.log(1-predicta+eps)\n",
        "    cost = cost_class0 + cost_class1\n",
        "    return cost.sum()/n"
      ],
      "metadata": {
        "id": "mposkD6Gyibm"
      },
      "execution_count": null,
      "outputs": []
    },
    {
      "cell_type": "markdown",
      "source": [
        "7. Hàm huấn luyện"
      ],
      "metadata": {
        "id": "4-vc4g9GykXk"
      }
    },
    {
      "cell_type": "code",
      "source": [
        "def train(theta,X,y,lr,iters):\n",
        "    cost_history = []\n",
        "    m=X.shape[0]\n",
        "    for i in range(iters):\n",
        "        y1 = predict(X,theta)\n",
        "        theta = theta - lr*np.dot(X.T, (y1-y))/m\n",
        "        cost = cost_funciton(X,y,theta)\n",
        "        cost_history.append(cost)\n",
        "    return theta,cost_history"
      ],
      "metadata": {
        "id": "rhgYtHXayqT2"
      },
      "execution_count": null,
      "outputs": []
    },
    {
      "cell_type": "markdown",
      "source": [
        "8. Chạy chương trình"
      ],
      "metadata": {
        "id": "eCHNZVfnys-H"
      }
    },
    {
      "cell_type": "code",
      "source": [
        "data = pd.read_csv('survey lung cancer.csv').values\n",
        "X = data[0:2000,0:data.shape[1]-1]\n",
        "X = np.hstack((np.ones((X.shape[0],1)),X))\n",
        "X = xuly(X)\n",
        "y = data[0:2000,-1]\n",
        "y -= 1\n",
        "X_train, X_test, y_train, y_test = train_test_split(X, y, test_size=0.2,random_state=100)\n",
        "n,d=X_train.shape\n",
        "theta = np.ones(d)\n",
        "theta,history_loss = train(theta,X_train,y_train,0.001,10000)"
      ],
      "metadata": {
        "id": "OMW7FjBly5nI"
      },
      "execution_count": null,
      "outputs": []
    },
    {
      "cell_type": "markdown",
      "source": [
        "9. Dựng history_loss để kiểm tra mô hình"
      ],
      "metadata": {
        "id": "tV_ANPURy8ZG"
      }
    },
    {
      "cell_type": "code",
      "source": [
        "plt.scatter(x= list(range(0,10000)), y = history_loss, color = 'red')\n",
        "plt.show()"
      ],
      "metadata": {
        "colab": {
          "base_uri": "https://localhost:8080/",
          "height": 265
        },
        "id": "yct_dHP5zEMf",
        "outputId": "76c67486-dd81-46a7-a0b3-9421be38489f"
      },
      "execution_count": null,
      "outputs": [
        {
          "output_type": "display_data",
          "data": {
            "text/plain": [
              "<Figure size 432x288 with 1 Axes>"
            ],
            "image/png": "[encoded data removed]"
          },
          "metadata": {
            "needs_background": "light"
          }
        }
      ]
    },
    {
      "cell_type": "markdown",
      "source": [
        "10. Hàm chuyển giá trị dự đoán về 0 và 1"
      ],
      "metadata": {
        "id": "57DDTunZzOnz"
      }
    },
    {
      "cell_type": "code",
      "source": [
        "def convert(X,theta):\n",
        "  y_guess = sigmoid(np.dot(X,theta))\n",
        "  for i in range(len(y_guess)):\n",
        "    if y_guess[i]>=0.5 : y_guess[i]=1\n",
        "    else : y_guess[i]=0\n",
        "  return y_guess"
      ],
      "metadata": {
        "id": "ujSShq-WzSgq"
      },
      "execution_count": null,
      "outputs": []
    },
    {
      "cell_type": "markdown",
      "source": [
        "11. Hàm đánh giá phần trăm đoán đúng của mô hình"
      ],
      "metadata": {
        "id": "3x7Mhsb0zU_-"
      }
    },
    {
      "cell_type": "code",
      "source": [
        "def guess_percent(X,y,theta):\n",
        "    y_guess = convert(X,theta)\n",
        "    count = 0\n",
        "    N = len(y_guess)\n",
        "    for i in range(len(y_guess)):\n",
        "        if y_guess[i] == y[i]: count +=1\n",
        "    return (count/N)*100"
      ],
      "metadata": {
        "id": "nwGasUzqzUHc"
      },
      "execution_count": null,
      "outputs": []
    },
    {
      "cell_type": "markdown",
      "source": [
        "12. Kết quả của mô hình"
      ],
      "metadata": {
        "id": "_1aTKerYzgZy"
      }
    },
    {
      "cell_type": "code",
      "source": [
        "print(\"Kết quả của model: \", guess_percent(X_test,y_test,theta),\"%\")"
      ],
      "metadata": {
        "colab": {
          "base_uri": "https://localhost:8080/"
        },
        "id": "En_63Fjfzjd8",
        "outputId": "60ce8259-0768-4c07-efd7-4c640c0c4fd4"
      },
      "execution_count": null,
      "outputs": [
        {
          "output_type": "stream",
          "name": "stdout",
          "text": [
            "Kết quả của model:  55.00000000000001 %\n"
          ]
        }
      ]
    },
    {
      "cell_type": "markdown",
      "source": [
        "13. Sử dụng thư viện để so sánh kết quả với mô hình"
      ],
      "metadata": {
        "id": "tu6j1w-9zm5k"
      }
    },
    {
      "cell_type": "code",
      "source": [
        "from sklearn.linear_model import LogisticRegression\n",
        "from sklearn.metrics import accuracy_score\n",
        "\n",
        "lr = LogisticRegression()\n",
        "lr.fit(X_train, y_train)\n",
        "lr_pred = lr.predict(X_test)\n",
        "lr_acc = round(accuracy_score(y_test, lr_pred)*100, ndigits = 2)\n",
        "\n",
        "print(\"Kết quả của library: \", lr_acc, \"%\")"
      ],
      "metadata": {
        "colab": {
          "base_uri": "https://localhost:8080/"
        },
        "id": "WFprpdz80HFx",
        "outputId": "34c6207e-b141-4c3e-964a-da1700a83b49"
      },
      "execution_count": null,
      "outputs": [
        {
          "output_type": "stream",
          "name": "stdout",
          "text": [
            "Kết quả của library:  54.75 %\n"
          ]
        }
      ]
    }
  ]
}